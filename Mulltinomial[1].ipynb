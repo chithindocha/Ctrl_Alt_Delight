{
 "cells": [
  {
   "cell_type": "code",
   "execution_count": 1,
   "id": "d29d0237",
   "metadata": {},
   "outputs": [],
   "source": [
    "import pandas as pd\n",
    "from sklearn.feature_extraction.text import CountVectorizer\n",
    "from sklearn.model_selection import train_test_split\n",
    "from sklearn.naive_bayes import MultinomialNB\n",
    "from sklearn.metrics import accuracy_score"
   ]
  },
  {
   "cell_type": "code",
   "execution_count": 2,
   "id": "96dd961b",
   "metadata": {},
   "outputs": [
    {
     "data": {
      "text/html": [
       "<div>\n",
       "<style scoped>\n",
       "    .dataframe tbody tr th:only-of-type {\n",
       "        vertical-align: middle;\n",
       "    }\n",
       "\n",
       "    .dataframe tbody tr th {\n",
       "        vertical-align: top;\n",
       "    }\n",
       "\n",
       "    .dataframe thead th {\n",
       "        text-align: right;\n",
       "    }\n",
       "</style>\n",
       "<table border=\"1\" class=\"dataframe\">\n",
       "  <thead>\n",
       "    <tr style=\"text-align: right;\">\n",
       "      <th></th>\n",
       "      <th>TranslatedRecipeName</th>\n",
       "      <th>TranslatedIngredients</th>\n",
       "    </tr>\n",
       "  </thead>\n",
       "  <tbody>\n",
       "    <tr>\n",
       "      <th>0</th>\n",
       "      <td>Masala Karela Recipe</td>\n",
       "      <td>1 tablespoon Red Chilli powder,3 tablespoon Gr...</td>\n",
       "    </tr>\n",
       "    <tr>\n",
       "      <th>1</th>\n",
       "      <td>Spicy Tomato Rice (Recipe)</td>\n",
       "      <td>2 teaspoon cashew - or peanuts, 1/2 Teaspoon ...</td>\n",
       "    </tr>\n",
       "    <tr>\n",
       "      <th>2</th>\n",
       "      <td>Ragi Semiya Upma Recipe - Ragi Millet Vermicel...</td>\n",
       "      <td>1 Onion - sliced,1 teaspoon White Urad Dal (Sp...</td>\n",
       "    </tr>\n",
       "    <tr>\n",
       "      <th>3</th>\n",
       "      <td>Gongura Chicken Curry Recipe - Andhra Style Go...</td>\n",
       "      <td>1/2 teaspoon Turmeric powder (Haldi),1 tablesp...</td>\n",
       "    </tr>\n",
       "    <tr>\n",
       "      <th>4</th>\n",
       "      <td>Andhra Style Alam Pachadi Recipe - Adrak Chutn...</td>\n",
       "      <td>oil - as per use, 1 tablespoon coriander seed...</td>\n",
       "    </tr>\n",
       "  </tbody>\n",
       "</table>\n",
       "</div>"
      ],
      "text/plain": [
       "                                TranslatedRecipeName  \\\n",
       "0                               Masala Karela Recipe   \n",
       "1                         Spicy Tomato Rice (Recipe)   \n",
       "2  Ragi Semiya Upma Recipe - Ragi Millet Vermicel...   \n",
       "3  Gongura Chicken Curry Recipe - Andhra Style Go...   \n",
       "4  Andhra Style Alam Pachadi Recipe - Adrak Chutn...   \n",
       "\n",
       "                               TranslatedIngredients  \n",
       "0  1 tablespoon Red Chilli powder,3 tablespoon Gr...  \n",
       "1   2 teaspoon cashew - or peanuts, 1/2 Teaspoon ...  \n",
       "2  1 Onion - sliced,1 teaspoon White Urad Dal (Sp...  \n",
       "3  1/2 teaspoon Turmeric powder (Haldi),1 tablesp...  \n",
       "4   oil - as per use, 1 tablespoon coriander seed...  "
      ]
     },
     "execution_count": 2,
     "metadata": {},
     "output_type": "execute_result"
    }
   ],
   "source": [
    "df = pd.read_csv(\"Cleaned_Indian_Food_Dataset.csv\")\n",
    "df = df[[\"TranslatedRecipeName\", \"TranslatedIngredients\"]]\n",
    "df.head()"
   ]
  },
  {
   "cell_type": "code",
   "execution_count": 3,
   "id": "7d224de4",
   "metadata": {},
   "outputs": [
    {
     "data": {
      "text/plain": [
       "0         Red Chilli powder,  Gram flour (besan),  Cum...\n",
       "1          cashew - or peanuts,  Teaspoon mustard,  dr...\n",
       "2        Onion ,  White Urad Dal (Split), Green Chilli...\n",
       "3         Turmeric powder (Haldi),  Coriander (Dhania)...\n",
       "4        oil ,   coriander seeds,  Teaspoon mustard,  ...\n",
       "                              ...                        \n",
       "5933      Rose water,  Ghee, s Paneer (Homemade Cottag...\n",
       "5934     sprig Basil leaves - finely chopped, s Whole ...\n",
       "5935      Sugar,  Milk - vegans can substitute this in...\n",
       "5936     pinch Turmeric powder (Haldi),  Mustard seeds...\n",
       "5937    Salt , to  Cloves (Laung),Ghee , to  Black car...\n",
       "Name: TranslatedIngredients, Length: 5938, dtype: object"
      ]
     },
     "execution_count": 3,
     "metadata": {},
     "output_type": "execute_result"
    }
   ],
   "source": [
    "df['TranslatedIngredients'] = df['TranslatedIngredients'].str.replace('tablespoons', '')\n",
    "df['TranslatedIngredients'] = df['TranslatedIngredients'].str.replace('teaspoons', '')\n",
    "df['TranslatedIngredients'] = df['TranslatedIngredients'].str.replace('tablespoon', '')\n",
    "df['TranslatedIngredients'] = df['TranslatedIngredients'].str.replace('teaspoon', '')\n",
    "\n",
    "df['TranslatedIngredients'] = df['TranslatedIngredients'].str.replace('- to taste', '')\n",
    "df['TranslatedIngredients'] = df['TranslatedIngredients'].str.replace('- as per taste', '')\n",
    "df['TranslatedIngredients'] = df['TranslatedIngredients'].str.replace('- as per use', '')\n",
    "df['TranslatedIngredients'] = df['TranslatedIngredients'].str.replace('- as required', '')\n",
    "df['TranslatedIngredients'] = df['TranslatedIngredients'].str.replace('- to make the dough', '')\n",
    "df['TranslatedIngredients'] = df['TranslatedIngredients'].str.replace('- sliced', '')\n",
    "df['TranslatedIngredients'] = df['TranslatedIngredients'].str.replace('- a generous pinch', '')\n",
    "df['TranslatedIngredients'] = df['TranslatedIngredients'].str.replace('cup', '')\n",
    "df['TranslatedIngredients'] = df['TranslatedIngredients'].str.replace('cups', '')\n",
    "df['TranslatedIngredients'] = df['TranslatedIngredients'].str.replace('/', '')\n",
    "\n",
    "\n",
    "df['TranslatedIngredients'] = df['TranslatedIngredients'].str.replace('\\d+', '', regex = True)\n",
    "df['TranslatedIngredients']"
   ]
  },
  {
   "cell_type": "code",
   "execution_count": 4,
   "id": "c1ab41b7",
   "metadata": {},
   "outputs": [],
   "source": [
    "X = df['TranslatedIngredients']\n",
    "y = df['TranslatedRecipeName']"
   ]
  },
  {
   "cell_type": "code",
   "execution_count": 5,
   "id": "0d4a394c",
   "metadata": {},
   "outputs": [],
   "source": [
    "vectorizer = CountVectorizer()\n",
    "\n",
    "# Convert text to numerical features\n",
    "X_vectorized = vectorizer.fit_transform(X)"
   ]
  },
  {
   "cell_type": "code",
   "execution_count": 6,
   "id": "71e3e4a5",
   "metadata": {},
   "outputs": [],
   "source": [
    "import pickle"
   ]
  },
  {
   "cell_type": "code",
   "execution_count": 7,
   "id": "82e308b4",
   "metadata": {},
   "outputs": [],
   "source": [
    "pickle.dump(X_vectorized,open('vectoriser.pkl','wb'))"
   ]
  },
  {
   "cell_type": "code",
   "execution_count": 8,
   "id": "e7a72b86",
   "metadata": {},
   "outputs": [],
   "source": [
    "X_train, X_test, y_train, y_test = train_test_split(X_vectorized, y, test_size=0.2, random_state=42)"
   ]
  },
  {
   "cell_type": "code",
   "execution_count": 9,
   "id": "513aa32e",
   "metadata": {},
   "outputs": [
    {
     "data": {
      "text/html": [
       "<style>#sk-container-id-1 {color: black;}#sk-container-id-1 pre{padding: 0;}#sk-container-id-1 div.sk-toggleable {background-color: white;}#sk-container-id-1 label.sk-toggleable__label {cursor: pointer;display: block;width: 100%;margin-bottom: 0;padding: 0.3em;box-sizing: border-box;text-align: center;}#sk-container-id-1 label.sk-toggleable__label-arrow:before {content: \"▸\";float: left;margin-right: 0.25em;color: #696969;}#sk-container-id-1 label.sk-toggleable__label-arrow:hover:before {color: black;}#sk-container-id-1 div.sk-estimator:hover label.sk-toggleable__label-arrow:before {color: black;}#sk-container-id-1 div.sk-toggleable__content {max-height: 0;max-width: 0;overflow: hidden;text-align: left;background-color: #f0f8ff;}#sk-container-id-1 div.sk-toggleable__content pre {margin: 0.2em;color: black;border-radius: 0.25em;background-color: #f0f8ff;}#sk-container-id-1 input.sk-toggleable__control:checked~div.sk-toggleable__content {max-height: 200px;max-width: 100%;overflow: auto;}#sk-container-id-1 input.sk-toggleable__control:checked~label.sk-toggleable__label-arrow:before {content: \"▾\";}#sk-container-id-1 div.sk-estimator input.sk-toggleable__control:checked~label.sk-toggleable__label {background-color: #d4ebff;}#sk-container-id-1 div.sk-label input.sk-toggleable__control:checked~label.sk-toggleable__label {background-color: #d4ebff;}#sk-container-id-1 input.sk-hidden--visually {border: 0;clip: rect(1px 1px 1px 1px);clip: rect(1px, 1px, 1px, 1px);height: 1px;margin: -1px;overflow: hidden;padding: 0;position: absolute;width: 1px;}#sk-container-id-1 div.sk-estimator {font-family: monospace;background-color: #f0f8ff;border: 1px dotted black;border-radius: 0.25em;box-sizing: border-box;margin-bottom: 0.5em;}#sk-container-id-1 div.sk-estimator:hover {background-color: #d4ebff;}#sk-container-id-1 div.sk-parallel-item::after {content: \"\";width: 100%;border-bottom: 1px solid gray;flex-grow: 1;}#sk-container-id-1 div.sk-label:hover label.sk-toggleable__label {background-color: #d4ebff;}#sk-container-id-1 div.sk-serial::before {content: \"\";position: absolute;border-left: 1px solid gray;box-sizing: border-box;top: 0;bottom: 0;left: 50%;z-index: 0;}#sk-container-id-1 div.sk-serial {display: flex;flex-direction: column;align-items: center;background-color: white;padding-right: 0.2em;padding-left: 0.2em;position: relative;}#sk-container-id-1 div.sk-item {position: relative;z-index: 1;}#sk-container-id-1 div.sk-parallel {display: flex;align-items: stretch;justify-content: center;background-color: white;position: relative;}#sk-container-id-1 div.sk-item::before, #sk-container-id-1 div.sk-parallel-item::before {content: \"\";position: absolute;border-left: 1px solid gray;box-sizing: border-box;top: 0;bottom: 0;left: 50%;z-index: -1;}#sk-container-id-1 div.sk-parallel-item {display: flex;flex-direction: column;z-index: 1;position: relative;background-color: white;}#sk-container-id-1 div.sk-parallel-item:first-child::after {align-self: flex-end;width: 50%;}#sk-container-id-1 div.sk-parallel-item:last-child::after {align-self: flex-start;width: 50%;}#sk-container-id-1 div.sk-parallel-item:only-child::after {width: 0;}#sk-container-id-1 div.sk-dashed-wrapped {border: 1px dashed gray;margin: 0 0.4em 0.5em 0.4em;box-sizing: border-box;padding-bottom: 0.4em;background-color: white;}#sk-container-id-1 div.sk-label label {font-family: monospace;font-weight: bold;display: inline-block;line-height: 1.2em;}#sk-container-id-1 div.sk-label-container {text-align: center;}#sk-container-id-1 div.sk-container {/* jupyter's `normalize.less` sets `[hidden] { display: none; }` but bootstrap.min.css set `[hidden] { display: none !important; }` so we also need the `!important` here to be able to override the default hidden behavior on the sphinx rendered scikit-learn.org. See: https://github.com/scikit-learn/scikit-learn/issues/21755 */display: inline-block !important;position: relative;}#sk-container-id-1 div.sk-text-repr-fallback {display: none;}</style><div id=\"sk-container-id-1\" class=\"sk-top-container\"><div class=\"sk-text-repr-fallback\"><pre>MultinomialNB()</pre><b>In a Jupyter environment, please rerun this cell to show the HTML representation or trust the notebook. <br />On GitHub, the HTML representation is unable to render, please try loading this page with nbviewer.org.</b></div><div class=\"sk-container\" hidden><div class=\"sk-item\"><div class=\"sk-estimator sk-toggleable\"><input class=\"sk-toggleable__control sk-hidden--visually\" id=\"sk-estimator-id-1\" type=\"checkbox\" checked><label for=\"sk-estimator-id-1\" class=\"sk-toggleable__label sk-toggleable__label-arrow\">MultinomialNB</label><div class=\"sk-toggleable__content\"><pre>MultinomialNB()</pre></div></div></div></div></div>"
      ],
      "text/plain": [
       "MultinomialNB()"
      ]
     },
     "execution_count": 9,
     "metadata": {},
     "output_type": "execute_result"
    }
   ],
   "source": [
    "classifier = MultinomialNB()\n",
    "classifier.fit(X_train, y_train)"
   ]
  },
  {
   "cell_type": "code",
   "execution_count": 10,
   "id": "c9fa8b96",
   "metadata": {},
   "outputs": [],
   "source": [
    "y_pred = classifier.predict(X_test)"
   ]
  },
  {
   "cell_type": "code",
   "execution_count": 11,
   "id": "62dae936",
   "metadata": {},
   "outputs": [
    {
     "name": "stdout",
     "output_type": "stream",
     "text": [
      "Predicted Recipe Names: ['Roasted Vegetable Pasta Primavera Recipe' 'Kadai Mushroom Recipe'\n",
      " 'Vegetarian Malai Kebab Recipe']\n"
     ]
    }
   ],
   "source": [
    "new_ingredients = [\"Cheese\", \"1/2 teaspoon Turmeric powder (Haldi)\", \"Paneer\"]\n",
    "new_ingredients_vectorized = vectorizer.transform(new_ingredients)\n",
    "predicted_recipe_names = classifier.predict(new_ingredients_vectorized)\n",
    "print(\"Predicted Recipe Names:\", predicted_recipe_names)"
   ]
  },
  {
   "cell_type": "code",
   "execution_count": 12,
   "id": "b6915f1f",
   "metadata": {},
   "outputs": [],
   "source": [
    "import pickle"
   ]
  },
  {
   "cell_type": "code",
   "execution_count": 13,
   "id": "eb6f598d",
   "metadata": {},
   "outputs": [],
   "source": [
    "pickle.dump(classifier,open('model.pkl','wb'))"
   ]
  },
  {
   "cell_type": "code",
   "execution_count": 14,
   "id": "c01ea5d0",
   "metadata": {},
   "outputs": [],
   "source": [
    "# model=pickle.load(open('model.pkl','rb'))\n",
    "# vectorizer = CountVectorizer()\n",
    "# new_ingredients = [\"Cheese\", \"1/2 teaspoon Turmeric powder (Haldi)\", \"Paneer\"]\n",
    "# new_ingredients_vectorized = vectorizer.transform(new_ingredients)\n",
    "# predicted_recipe_names = model.predict(new_ingredients_vectorized)\n",
    "# print(\"Predicted Recipe Names:\", predicted_recipe_names)"
   ]
  },
  {
   "cell_type": "code",
   "execution_count": 15,
   "id": "73ccecaf",
   "metadata": {},
   "outputs": [
    {
     "data": {
      "text/plain": [
       "['vectorizer.joblib']"
      ]
     },
     "execution_count": 15,
     "metadata": {},
     "output_type": "execute_result"
    }
   ],
   "source": [
    "import joblib\n",
    "joblib.dump(classifier,'model.joblib')\n",
    "joblib.dump(vectorizer, 'vectorizer.joblib')"
   ]
  }
 ],
 "metadata": {
  "kernelspec": {
   "display_name": "Python 3 (ipykernel)",
   "language": "python",
   "name": "python3"
  },
  "language_info": {
   "codemirror_mode": {
    "name": "ipython",
    "version": 3
   },
   "file_extension": ".py",
   "mimetype": "text/x-python",
   "name": "python",
   "nbconvert_exporter": "python",
   "pygments_lexer": "ipython3",
   "version": "3.10.12"
  }
 },
 "nbformat": 4,
 "nbformat_minor": 5
}
